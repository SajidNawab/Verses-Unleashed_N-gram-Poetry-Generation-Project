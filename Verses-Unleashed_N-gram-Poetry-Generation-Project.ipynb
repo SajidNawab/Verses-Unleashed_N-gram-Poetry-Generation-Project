{
 "cells": [
  {
   "cell_type": "markdown",
   "metadata": {},
   "source": [
    "#The task is to generate a poem using different models. We will generate a poem verse by verse until all stanzas have been generated. The poetry generation problem can be solved using the following algorithm:\n",
    "\n",
    "#Load the Poetry Corpus\n",
    "1-Tokenize the corpus in order to split it into a list of words\n",
    "2-Generate n-gram models\n",
    "3-For each of the stanzas – For each verse\n",
    "4-Generate a random number in the range [7...10]\n",
    "5-Select first word\n",
    "6-Select subsequent words until end of verse\n",
    "7-[bonus] If not the first verse, try to rhyme the last word with the last word of the previous verse\n",
    "8-Print verse – Print empty line after stanza 2.1 Implementation Challenges:\n",
    "Among the challenges of solving this assignment will be selecting subsequent words once we have chosen\n",
    "the first word of the verse. \n",
    "\n",
    "To predict the next word, what we aim to compute is the most probable next word from all the possible next words. \n",
    "In other words, we need to find the set of words that occur most frequently after the already selected word\n",
    "and choose the next word from that set. We can use a Conditional Frequency Distribution (CFD) \n",
    "to figure that out! A CFD tells us: given a condition, what is likelihood of each possible outcome.\n",
    "[bonus] Rhyming the generated verses is also a challenge. You can build your dictionary for rhyming.\n",
    "The Urdu sentence is written from right to left, so makes your n-gram models according to this style.\n",
    "\n",
    " Standard n-gram Models We can develop our model using the Conditional Frequency Distribution method. \n",
    "First develop a unigram model (Unigram Model), then the bigram model (Bigram Model)\n",
    "and then trigram model. Select the first word of each line randomly from starting words in the vocabulary\n",
    "and then use the bigram model to generate the next word until the verse is complete.\n",
    "Generate the next three lines similarly.\n",
    "Follow the same steps for the trigram model and compare the results of the two n-gram models."
   ]
  },
  {
   "cell_type": "markdown",
   "metadata": {},
   "source": [
    "# import Usefull libraries"
   ]
  },
  {
   "cell_type": "code",
   "execution_count": null,
   "metadata": {},
   "outputs": [],
   "source": [
    "import random\n",
    "from nltk import FreqDist\n",
    "from nltk.tokenize import word_tokenize"
   ]
  },
  {
   "cell_type": "markdown",
   "metadata": {},
   "source": [
    "# Load iqbal poetry"
   ]
  },
  {
   "cell_type": "code",
   "execution_count": null,
   "metadata": {},
   "outputs": [],
   "source": [
    "file_iqbal = open(\"iqbal.txt\", encoding=\"utf8\")\n",
    "file_iqbal=file_iqbal.read()\n",
    "file_iqbal=file_iqbal.split()\n",
    "print(file_iqbal)"
   ]
  },
  {
   "cell_type": "markdown",
   "metadata": {},
   "source": [
    "# Load Ghalib poetry "
   ]
  },
  {
   "cell_type": "code",
   "execution_count": null,
   "metadata": {},
   "outputs": [],
   "source": [
    "file_ghalib = open(\"ghalib.txt\", encoding=\"utf8\")\n",
    "file_ghalib=file_ghalib.read()\n",
    "file_ghalib=file_ghalib.split()\n",
    "print(file_ghalib)"
   ]
  },
  {
   "cell_type": "markdown",
   "metadata": {},
   "source": [
    "# Tokenize corpus split into list of words"
   ]
  },
  {
   "cell_type": "code",
   "execution_count": null,
   "metadata": {},
   "outputs": [],
   "source": [
    "def preprocess(poems):\n",
    "    tokenized_poems = []\n",
    "    for poem in poems:\n",
    "        tokens = word_tokenize(poem)  \n",
    "        tokenized_poems.extend(tokens)\n",
    "    return tokenized_poems"
   ]
  },
  {
   "cell_type": "markdown",
   "metadata": {},
   "source": [
    "# Call-pre processor function"
   ]
  },
  {
   "cell_type": "code",
   "execution_count": null,
   "metadata": {},
   "outputs": [],
   "source": [
    "iqbal_tokens = preprocess(file_iqbal)\n",
    "ghalib_tokens = preprocess(file_ghalib)"
   ]
  },
  {
   "cell_type": "markdown",
   "metadata": {},
   "source": [
    "# Generate n-grams "
   ]
  },
  {
   "cell_type": "code",
   "execution_count": null,
   "metadata": {},
   "outputs": [],
   "source": [
    "iqbal_ngram = FreqDist(iqbal_tokens)\n",
    "ghalib_ngram = FreqDist(ghalib_tokens)"
   ]
  },
  {
   "cell_type": "markdown",
   "metadata": {},
   "source": [
    "# Function to generate poetry starting with a search words"
   ]
  },
  {
   "cell_type": "code",
   "execution_count": null,
   "metadata": {},
   "outputs": [],
   "source": [
    "def generate_poetry_with_search_word(unigram_model, starting_word):\n",
    "    for _ in range(4):\n",
    "        line_length = random.randint(7,10)\n",
    "        line = [starting_word]  \n",
    "        while len(line) < line_length:\n",
    "            next_word = unigram_model.max()  \n",
    "            if len(unigram_model) > 1:\n",
    "                next_word = random.choice(list(unigram_model.keys()))\n",
    "            line.append(next_word)\n",
    "        print(' '.join(line))"
   ]
  },
  {
   "cell_type": "markdown",
   "metadata": {},
   "source": [
    "# Call poetry generate function"
   ]
  },
  {
   "cell_type": "code",
   "execution_count": null,
   "metadata": {},
   "outputs": [],
   "source": [
    "print(\"Iqbal\")\n",
    "search_word = \"حیراں \" \n",
    "generate_poetry_with_search_word(iqbal_ngram, search_word)\n",
    "print(\"\\n Ghalib \")\n",
    "generate_poetry_with_search_word(ghalib_unigram_model, search_word)"
   ]
  }
 ],
 "metadata": {
  "kernelspec": {
   "display_name": "Python 3",
   "language": "python",
   "name": "python3"
  },
  "language_info": {
   "codemirror_mode": {
    "name": "ipython",
    "version": 3
   },
   "file_extension": ".py",
   "mimetype": "text/x-python",
   "name": "python",
   "nbconvert_exporter": "python",
   "pygments_lexer": "ipython3",
   "version": "3.7.4"
  }
 },
 "nbformat": 4,
 "nbformat_minor": 2
}
